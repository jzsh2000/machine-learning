{
 "cells": [
  {
   "cell_type": "markdown",
   "metadata": {
<<<<<<< HEAD
    "collapsed": true,
    "deletable": true,
    "editable": true
=======
    "collapsed": true
>>>>>>> 1baaec7cad07065df94e0cad830925d7e53c5af7
   },
   "source": [
    "# Image Classification\n",
    "In this project, you'll classify images from the [CIFAR-10 dataset](https://www.cs.toronto.edu/~kriz/cifar.html).  The dataset consists of airplanes, dogs, cats, and other objects. You'll preprocess the images, then train a convolutional neural network on all the samples. The images need to be normalized and the labels need to be one-hot encoded.  You'll get to apply what you learned and build a convolutional, max pooling, dropout, and fully connected layers.  At the end, you'll get to see your neural network's predictions on the sample images.\n",
    "## Get the Data\n",
    "Run the following cell to download the [CIFAR-10 dataset for python](https://www.cs.toronto.edu/~kriz/cifar-10-python.tar.gz)."
   ]
  },
  {
   "cell_type": "code",
<<<<<<< HEAD
   "execution_count": 1,
   "metadata": {
    "collapsed": false,
    "deletable": true,
    "editable": true
   },
   "outputs": [
    {
     "name": "stdout",
     "output_type": "stream",
     "text": [
      "All files found!\n"
     ]
    }
   ],
=======
   "execution_count": null,
   "metadata": {
    "collapsed": false
   },
   "outputs": [],
>>>>>>> 1baaec7cad07065df94e0cad830925d7e53c5af7
   "source": [
    "\"\"\"\n",
    "DON'T MODIFY ANYTHING IN THIS CELL THAT IS BELOW THIS LINE\n",
    "\"\"\"\n",
    "from urllib.request import urlretrieve\n",
    "from os.path import isfile, isdir\n",
    "from tqdm import tqdm\n",
    "import problem_unittests as tests\n",
    "import tarfile\n",
    "\n",
    "cifar10_dataset_folder_path = 'cifar-10-batches-py'\n",
    "\n",
    "class DLProgress(tqdm):\n",
    "    last_block = 0\n",
    "\n",
    "    def hook(self, block_num=1, block_size=1, total_size=None):\n",
    "        self.total = total_size\n",
    "        self.update((block_num - self.last_block) * block_size)\n",
    "        self.last_block = block_num\n",
    "\n",
    "if not isfile('cifar-10-python.tar.gz'):\n",
    "    with DLProgress(unit='B', unit_scale=True, miniters=1, desc='CIFAR-10 Dataset') as pbar:\n",
    "        urlretrieve(\n",
    "            'https://www.cs.toronto.edu/~kriz/cifar-10-python.tar.gz',\n",
    "            'cifar-10-python.tar.gz',\n",
    "            pbar.hook)\n",
    "\n",
    "if not isdir(cifar10_dataset_folder_path):\n",
    "    with tarfile.open('cifar-10-python.tar.gz') as tar:\n",
    "        tar.extractall()\n",
    "        tar.close()\n",
    "\n",
    "\n",
    "tests.test_folder_path(cifar10_dataset_folder_path)"
   ]
  },
  {
   "cell_type": "markdown",
<<<<<<< HEAD
   "metadata": {
    "deletable": true,
    "editable": true
   },
=======
   "metadata": {},
>>>>>>> 1baaec7cad07065df94e0cad830925d7e53c5af7
   "source": [
    "## Explore the Data\n",
    "The dataset is broken into batches to prevent your machine from running out of memory.  The CIFAR-10 dataset consists of 5 batches, named `data_batch_1`, `data_batch_2`, etc.. Each batch contains the labels and images that are one of the following:\n",
    "* airplane\n",
    "* automobile\n",
    "* bird\n",
    "* cat\n",
    "* deer\n",
    "* dog\n",
    "* frog\n",
    "* horse\n",
    "* ship\n",
    "* truck\n",
    "\n",
    "Understanding a dataset is part of making predictions on the data.  Play around with the code cell below by changing the `batch_id` and `sample_id`. The `batch_id` is the id for a batch (1-5). The `sample_id` is the id for a image and label pair in the batch.\n",
    "\n",
    "Ask yourself \"What are all possible labels?\", \"What is the range of values for the image data?\", \"Are the labels in order or random?\".  Answers to questions like these will help you preprocess the data and end up with better predictions."
   ]
  },
  {
   "cell_type": "code",
<<<<<<< HEAD
   "execution_count": 2,
   "metadata": {
    "collapsed": false,
    "deletable": true,
    "editable": true
   },
   "outputs": [
    {
     "name": "stdout",
     "output_type": "stream",
     "text": [
      "\n",
      "Stats of batch 1:\n",
      "Samples: 10000\n",
      "Label Counts: {0: 1005, 1: 974, 2: 1032, 3: 1016, 4: 999, 5: 937, 6: 1030, 7: 1001, 8: 1025, 9: 981}\n",
      "First 20 Labels: [6, 9, 9, 4, 1, 1, 2, 7, 8, 3, 4, 7, 7, 2, 9, 9, 9, 3, 2, 6]\n",
      "\n",
      "Example of Image 5:\n",
      "Image - Min Value: 0 Max Value: 252\n",
      "Image - Shape: (32, 32, 3)\n",
      "Label - Label Id: 1 Name: automobile\n"
     ]
    },
    {
     "data": {
      "image/png": "iVBORw0KGgoAAAANSUhEUgAAAfoAAAH0CAYAAADVH+85AAAABHNCSVQICAgIfAhkiAAAAAlwSFlz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\nrkJggg==\n",
      "text/plain": [
       "<matplotlib.figure.Figure at 0x10985c6d8>"
      ]
     },
     "metadata": {
      "image/png": {
       "height": 250,
       "width": 253
      }
     },
     "output_type": "display_data"
    }
   ],
=======
   "execution_count": null,
   "metadata": {
    "collapsed": false
   },
   "outputs": [],
>>>>>>> 1baaec7cad07065df94e0cad830925d7e53c5af7
   "source": [
    "%matplotlib inline\n",
    "%config InlineBackend.figure_format = 'retina'\n",
    "\n",
    "import helper\n",
    "import numpy as np\n",
    "\n",
    "# Explore the dataset\n",
    "batch_id = 1\n",
    "sample_id = 5\n",
    "helper.display_stats(cifar10_dataset_folder_path, batch_id, sample_id)"
   ]
  },
  {
   "cell_type": "markdown",
<<<<<<< HEAD
   "metadata": {
    "deletable": true,
    "editable": true
   },
=======
   "metadata": {},
>>>>>>> 1baaec7cad07065df94e0cad830925d7e53c5af7
   "source": [
    "## Implement Preprocess Functions\n",
    "### Normalize\n",
    "In the cell below, implement the `normalize` function to take in image data, `x`, and return it as a normalized Numpy array. The values should be in the range of 0 to 1, inclusive.  The return object should be the same shape as `x`."
   ]
  },
  {
   "cell_type": "code",
<<<<<<< HEAD
   "execution_count": 3,
   "metadata": {
    "collapsed": false,
    "deletable": true,
    "editable": true
   },
   "outputs": [
    {
     "name": "stdout",
     "output_type": "stream",
     "text": [
      "Tests Passed\n"
     ]
    }
   ],
=======
   "execution_count": null,
   "metadata": {
    "collapsed": false
   },
   "outputs": [],
>>>>>>> 1baaec7cad07065df94e0cad830925d7e53c5af7
   "source": [
    "def normalize(x):\n",
    "    \"\"\"\n",
    "    Normalize a list of sample image data in the range of 0 to 1\n",
    "    : x: List of image data.  The image shape is (32, 32, 3)\n",
    "    : return: Numpy array of normalize data\n",
    "    \"\"\"\n",
    "    # TODO: Implement Function\n",
<<<<<<< HEAD
    "    return (x - x.min())/(x.max() - x.min())\n",
=======
    "    return None\n",
>>>>>>> 1baaec7cad07065df94e0cad830925d7e53c5af7
    "\n",
    "\n",
    "\"\"\"\n",
    "DON'T MODIFY ANYTHING IN THIS CELL THAT IS BELOW THIS LINE\n",
    "\"\"\"\n",
    "tests.test_normalize(normalize)"
   ]
  },
  {
   "cell_type": "markdown",
<<<<<<< HEAD
   "metadata": {
    "deletable": true,
    "editable": true
   },
=======
   "metadata": {},
>>>>>>> 1baaec7cad07065df94e0cad830925d7e53c5af7
   "source": [
    "### One-hot encode\n",
    "Just like the previous code cell, you'll be implementing a function for preprocessing.  This time, you'll implement the `one_hot_encode` function. The input, `x`, are a list of labels.  Implement the function to return the list of labels as One-Hot encoded Numpy array.  The possible values for labels are 0 to 9. The one-hot encoding function should return the same encoding for each value between each call to `one_hot_encode`.  Make sure to save the map of encodings outside the function.\n",
    "\n",
    "**Hint:**\n",
    "\n",
    "Look into LabelBinarizer in the preprocessing module of sklearn."
   ]
  },
  {
   "cell_type": "code",
<<<<<<< HEAD
   "execution_count": 4,
   "metadata": {
    "collapsed": false,
    "deletable": true,
    "editable": true
   },
   "outputs": [
    {
     "name": "stdout",
     "output_type": "stream",
     "text": [
      "Tests Passed\n"
     ]
    }
   ],
=======
   "execution_count": null,
   "metadata": {
    "collapsed": false
   },
   "outputs": [],
>>>>>>> 1baaec7cad07065df94e0cad830925d7e53c5af7
   "source": [
    "def one_hot_encode(x):\n",
    "    \"\"\"\n",
    "    One hot encode a list of sample labels. Return a one-hot encoded vector for each label.\n",
    "    : x: List of sample Labels\n",
    "    : return: Numpy array of one-hot encoded labels\n",
    "    \"\"\"\n",
    "    # TODO: Implement Function\n",
<<<<<<< HEAD
    "    from sklearn import preprocessing\n",
    "    lb = preprocessing.LabelBinarizer()\n",
    "    lb.fit(range(10))\n",
    "    return lb.transform(x)\n",
=======
    "    return None\n",
>>>>>>> 1baaec7cad07065df94e0cad830925d7e53c5af7
    "\n",
    "\n",
    "\"\"\"\n",
    "DON'T MODIFY ANYTHING IN THIS CELL THAT IS BELOW THIS LINE\n",
    "\"\"\"\n",
    "tests.test_one_hot_encode(one_hot_encode)"
   ]
  },
  {
   "cell_type": "markdown",
<<<<<<< HEAD
   "metadata": {
    "deletable": true,
    "editable": true
   },
=======
   "metadata": {},
>>>>>>> 1baaec7cad07065df94e0cad830925d7e53c5af7
   "source": [
    "### Randomize Data\n",
    "As you saw from exploring the data above, the order of the samples are randomized.  It doesn't hurt to randomize it again, but you don't need to for this dataset."
   ]
  },
  {
   "cell_type": "markdown",
<<<<<<< HEAD
   "metadata": {
    "deletable": true,
    "editable": true
   },
=======
   "metadata": {},
>>>>>>> 1baaec7cad07065df94e0cad830925d7e53c5af7
   "source": [
    "## Preprocess all the data and save it\n",
    "Running the code cell below will preprocess all the CIFAR-10 data and save it to file. The code below also uses 10% of the training data for validation."
   ]
  },
  {
   "cell_type": "code",
<<<<<<< HEAD
   "execution_count": 5,
   "metadata": {
    "collapsed": false,
    "deletable": true,
    "editable": true
=======
   "execution_count": null,
   "metadata": {
    "collapsed": false
>>>>>>> 1baaec7cad07065df94e0cad830925d7e53c5af7
   },
   "outputs": [],
   "source": [
    "\"\"\"\n",
    "DON'T MODIFY ANYTHING IN THIS CELL\n",
    "\"\"\"\n",
    "# Preprocess Training, Validation, and Testing Data\n",
    "helper.preprocess_and_save_data(cifar10_dataset_folder_path, normalize, one_hot_encode)"
   ]
  },
  {
   "cell_type": "markdown",
<<<<<<< HEAD
   "metadata": {
    "deletable": true,
    "editable": true
   },
=======
   "metadata": {},
>>>>>>> 1baaec7cad07065df94e0cad830925d7e53c5af7
   "source": [
    "# Check Point\n",
    "This is your first checkpoint.  If you ever decide to come back to this notebook or have to restart the notebook, you can start from here.  The preprocessed data has been saved to disk."
   ]
  },
  {
   "cell_type": "code",
<<<<<<< HEAD
   "execution_count": 6,
   "metadata": {
    "collapsed": true,
    "deletable": true,
    "editable": true
=======
   "execution_count": null,
   "metadata": {
    "collapsed": true
>>>>>>> 1baaec7cad07065df94e0cad830925d7e53c5af7
   },
   "outputs": [],
   "source": [
    "\"\"\"\n",
    "DON'T MODIFY ANYTHING IN THIS CELL\n",
    "\"\"\"\n",
    "import pickle\n",
    "import problem_unittests as tests\n",
    "import helper\n",
    "\n",
    "# Load the Preprocessed Validation data\n",
    "valid_features, valid_labels = pickle.load(open('preprocess_validation.p', mode='rb'))"
   ]
  },
  {
   "cell_type": "markdown",
<<<<<<< HEAD
   "metadata": {
    "deletable": true,
    "editable": true
   },
=======
   "metadata": {},
>>>>>>> 1baaec7cad07065df94e0cad830925d7e53c5af7
   "source": [
    "## Build the network\n",
    "For the neural network, you'll build each layer into a function.  Most of the code you've seen has been outside of functions. To test your code more thoroughly, we require that you put each layer in a function.  This allows us to give you better feedback and test for simple mistakes using our unittests before you submit your project.\n",
    "\n",
    ">**Note:** If you're finding it hard to dedicate enough time for this course each week, we've provided a small shortcut to this part of the project. In the next couple of problems, you'll have the option to use classes from the [TensorFlow Layers](https://www.tensorflow.org/api_docs/python/tf/layers) or [TensorFlow Layers (contrib)](https://www.tensorflow.org/api_guides/python/contrib.layers) packages to build each layer, except the layers you build in the \"Convolutional and Max Pooling Layer\" section.  TF Layers is similar to Keras's and TFLearn's abstraction to layers, so it's easy to pickup.\n",
    "\n",
    ">However, if you would like to get the most out of this course, try to solve all the problems _without_ using anything from the TF Layers packages. You **can** still use classes from other packages that happen to have the same name as ones you find in TF Layers! For example, instead of using the TF Layers version of the `conv2d` class, [tf.layers.conv2d](https://www.tensorflow.org/api_docs/python/tf/layers/conv2d), you would want to use the TF Neural Network version of `conv2d`, [tf.nn.conv2d](https://www.tensorflow.org/api_docs/python/tf/nn/conv2d). \n",
    "\n",
    "Let's begin!\n",
    "\n",
    "### Input\n",
    "The neural network needs to read the image data, one-hot encoded labels, and dropout keep probability. Implement the following functions\n",
    "* Implement `neural_net_image_input`\n",
    " * Return a [TF Placeholder](https://www.tensorflow.org/api_docs/python/tf/placeholder)\n",
    " * Set the shape using `image_shape` with batch size set to `None`.\n",
    " * Name the TensorFlow placeholder \"x\" using the TensorFlow `name` parameter in the [TF Placeholder](https://www.tensorflow.org/api_docs/python/tf/placeholder).\n",
    "* Implement `neural_net_label_input`\n",
    " * Return a [TF Placeholder](https://www.tensorflow.org/api_docs/python/tf/placeholder)\n",
    " * Set the shape using `n_classes` with batch size set to `None`.\n",
    " * Name the TensorFlow placeholder \"y\" using the TensorFlow `name` parameter in the [TF Placeholder](https://www.tensorflow.org/api_docs/python/tf/placeholder).\n",
    "* Implement `neural_net_keep_prob_input`\n",
    " * Return a [TF Placeholder](https://www.tensorflow.org/api_docs/python/tf/placeholder) for dropout keep probability.\n",
    " * Name the TensorFlow placeholder \"keep_prob\" using the TensorFlow `name` parameter in the [TF Placeholder](https://www.tensorflow.org/api_docs/python/tf/placeholder).\n",
    "\n",
    "These names will be used at the end of the project to load your saved model.\n",
    "\n",
    "Note: `None` for shapes in TensorFlow allow for a dynamic size."
   ]
  },
  {
   "cell_type": "code",
<<<<<<< HEAD
   "execution_count": 7,
   "metadata": {
    "collapsed": false,
    "deletable": true,
    "editable": true
   },
   "outputs": [
    {
     "name": "stdout",
     "output_type": "stream",
     "text": [
      "Image Input Tests Passed.\n",
      "Label Input Tests Passed.\n",
      "Keep Prob Tests Passed.\n"
     ]
    }
   ],
=======
   "execution_count": null,
   "metadata": {
    "collapsed": false
   },
   "outputs": [],
>>>>>>> 1baaec7cad07065df94e0cad830925d7e53c5af7
   "source": [
    "import tensorflow as tf\n",
    "\n",
    "def neural_net_image_input(image_shape):\n",
    "    \"\"\"\n",
    "    Return a Tensor for a batch of image input\n",
    "    : image_shape: Shape of the images\n",
    "    : return: Tensor for image input.\n",
    "    \"\"\"\n",
    "    # TODO: Implement Function\n",
<<<<<<< HEAD
    "    return tf.placeholder(tf.float32, shape = [None] + list(image_shape), name = 'x')\n",
=======
    "    return None\n",
>>>>>>> 1baaec7cad07065df94e0cad830925d7e53c5af7
    "\n",
    "\n",
    "def neural_net_label_input(n_classes):\n",
    "    \"\"\"\n",
    "    Return a Tensor for a batch of label input\n",
    "    : n_classes: Number of classes\n",
    "    : return: Tensor for label input.\n",
    "    \"\"\"\n",
    "    # TODO: Implement Function\n",
<<<<<<< HEAD
    "    return tf.placeholder(tf.float32, shape = [None, n_classes], name = 'y')\n",
=======
    "    return None\n",
>>>>>>> 1baaec7cad07065df94e0cad830925d7e53c5af7
    "\n",
    "\n",
    "def neural_net_keep_prob_input():\n",
    "    \"\"\"\n",
    "    Return a Tensor for keep probability\n",
    "    : return: Tensor for keep probability.\n",
    "    \"\"\"\n",
    "    # TODO: Implement Function\n",
<<<<<<< HEAD
    "    return tf.placeholder(tf.float32, shape = None, name = 'keep_prob')\n",
=======
    "    return None\n",
>>>>>>> 1baaec7cad07065df94e0cad830925d7e53c5af7
    "\n",
    "\n",
    "\"\"\"\n",
    "DON'T MODIFY ANYTHING IN THIS CELL THAT IS BELOW THIS LINE\n",
    "\"\"\"\n",
    "tf.reset_default_graph()\n",
    "tests.test_nn_image_inputs(neural_net_image_input)\n",
    "tests.test_nn_label_inputs(neural_net_label_input)\n",
    "tests.test_nn_keep_prob_inputs(neural_net_keep_prob_input)"
   ]
  },
  {
   "cell_type": "markdown",
<<<<<<< HEAD
   "metadata": {
    "deletable": true,
    "editable": true
   },
=======
   "metadata": {},
>>>>>>> 1baaec7cad07065df94e0cad830925d7e53c5af7
   "source": [
    "### Convolution and Max Pooling Layer\n",
    "Convolution layers have a lot of success with images. For this code cell, you should implement the function `conv2d_maxpool` to apply convolution then max pooling:\n",
    "* Create the weight and bias using `conv_ksize`, `conv_num_outputs` and the shape of `x_tensor`.\n",
    "* Apply a convolution to `x_tensor` using weight and `conv_strides`.\n",
    " * We recommend you use same padding, but you're welcome to use any padding.\n",
    "* Add bias\n",
    "* Add a nonlinear activation to the convolution.\n",
    "* Apply Max Pooling using `pool_ksize` and `pool_strides`.\n",
    " * We recommend you use same padding, but you're welcome to use any padding.\n",
    "\n",
    "**Note:** You **can't** use [TensorFlow Layers](https://www.tensorflow.org/api_docs/python/tf/layers) or [TensorFlow Layers (contrib)](https://www.tensorflow.org/api_guides/python/contrib.layers) for **this** layer, but you can still use TensorFlow's [Neural Network](https://www.tensorflow.org/api_docs/python/tf/nn) package. You may still use the shortcut option for all the **other** layers.\n",
    "\n",
    "** Hint: **\n",
    "\n",
    "When unpacking values as an argument in Python, look into the [unpacking](https://docs.python.org/3/tutorial/controlflow.html#unpacking-argument-lists) operator. "
   ]
  },
  {
   "cell_type": "code",
<<<<<<< HEAD
   "execution_count": 8,
   "metadata": {
    "collapsed": false,
    "deletable": true,
    "editable": true
   },
   "outputs": [
    {
     "name": "stdout",
     "output_type": "stream",
     "text": [
      "Tests Passed\n"
     ]
    }
   ],
=======
   "execution_count": null,
   "metadata": {
    "collapsed": false
   },
   "outputs": [],
>>>>>>> 1baaec7cad07065df94e0cad830925d7e53c5af7
   "source": [
    "def conv2d_maxpool(x_tensor, conv_num_outputs, conv_ksize, conv_strides, pool_ksize, pool_strides):\n",
    "    \"\"\"\n",
    "    Apply convolution then max pooling to x_tensor\n",
    "    :param x_tensor: TensorFlow Tensor\n",
    "    :param conv_num_outputs: Number of outputs for the convolutional layer\n",
    "    :param conv_ksize: kernal size 2-D Tuple for the convolutional layer\n",
    "    :param conv_strides: Stride 2-D Tuple for convolution\n",
    "    :param pool_ksize: kernal size 2-D Tuple for pool\n",
    "    :param pool_strides: Stride 2-D Tuple for pool\n",
    "    : return: A tensor that represents convolution and max pooling of x_tensor\n",
    "    \"\"\"\n",
    "    # TODO: Implement Function\n",
<<<<<<< HEAD
    "    F_weight = tf.Variable(tf.truncated_normal([*conv_ksize,\n",
    "                                                x_tensor.get_shape().as_list()[-1],\n",
    "                                                conv_num_outputs], stddev = 0.05))\n",
    "    F_bias = tf.Variable(tf.zeros(conv_num_outputs))\n",
    "    padding = 'SAME'\n",
    "    output = tf.nn.conv2d(x_tensor, F_weight, [1, *conv_strides, 1], padding)\n",
    "    output = tf.nn.bias_add(output, F_bias)\n",
    "    output = tf.nn.relu(output)\n",
    "    output = tf.nn.max_pool(output, [1, *pool_ksize, 1], [1, *pool_strides, 1], padding)\n",
    "    return output\n",
=======
    "    return None \n",
>>>>>>> 1baaec7cad07065df94e0cad830925d7e53c5af7
    "\n",
    "\n",
    "\"\"\"\n",
    "DON'T MODIFY ANYTHING IN THIS CELL THAT IS BELOW THIS LINE\n",
    "\"\"\"\n",
    "tests.test_con_pool(conv2d_maxpool)"
   ]
  },
  {
   "cell_type": "markdown",
<<<<<<< HEAD
   "metadata": {
    "deletable": true,
    "editable": true
   },
=======
   "metadata": {},
>>>>>>> 1baaec7cad07065df94e0cad830925d7e53c5af7
   "source": [
    "### Flatten Layer\n",
    "Implement the `flatten` function to change the dimension of `x_tensor` from a 4-D tensor to a 2-D tensor.  The output should be the shape (*Batch Size*, *Flattened Image Size*). Shortcut option: you can use classes from the [TensorFlow Layers](https://www.tensorflow.org/api_docs/python/tf/layers) or [TensorFlow Layers (contrib)](https://www.tensorflow.org/api_guides/python/contrib.layers) packages for this layer. For more of a challenge, only use other TensorFlow packages."
   ]
  },
  {
   "cell_type": "code",
<<<<<<< HEAD
   "execution_count": 9,
   "metadata": {
    "collapsed": false,
    "deletable": true,
    "editable": true
   },
   "outputs": [
    {
     "name": "stdout",
     "output_type": "stream",
     "text": [
      "Tests Passed\n"
     ]
    }
   ],
=======
   "execution_count": null,
   "metadata": {
    "collapsed": false
   },
   "outputs": [],
>>>>>>> 1baaec7cad07065df94e0cad830925d7e53c5af7
   "source": [
    "def flatten(x_tensor):\n",
    "    \"\"\"\n",
    "    Flatten x_tensor to (Batch Size, Flattened Image Size)\n",
    "    : x_tensor: A tensor of size (Batch Size, ...), where ... are the image dimensions.\n",
    "    : return: A tensor of size (Batch Size, Flattened Image Size).\n",
    "    \"\"\"\n",
    "    # TODO: Implement Function\n",
<<<<<<< HEAD
    "    return tf.contrib.layers.flatten(x_tensor)\n",
=======
    "    return None\n",
>>>>>>> 1baaec7cad07065df94e0cad830925d7e53c5af7
    "\n",
    "\n",
    "\"\"\"\n",
    "DON'T MODIFY ANYTHING IN THIS CELL THAT IS BELOW THIS LINE\n",
    "\"\"\"\n",
    "tests.test_flatten(flatten)"
   ]
  },
  {
   "cell_type": "markdown",
<<<<<<< HEAD
   "metadata": {
    "deletable": true,
    "editable": true
   },
=======
   "metadata": {},
>>>>>>> 1baaec7cad07065df94e0cad830925d7e53c5af7
   "source": [
    "### Fully-Connected Layer\n",
    "Implement the `fully_conn` function to apply a fully connected layer to `x_tensor` with the shape (*Batch Size*, *num_outputs*). Shortcut option: you can use classes from the [TensorFlow Layers](https://www.tensorflow.org/api_docs/python/tf/layers) or [TensorFlow Layers (contrib)](https://www.tensorflow.org/api_guides/python/contrib.layers) packages for this layer. For more of a challenge, only use other TensorFlow packages."
   ]
  },
  {
   "cell_type": "code",
<<<<<<< HEAD
   "execution_count": 10,
   "metadata": {
    "collapsed": false,
    "deletable": true,
    "editable": true
   },
   "outputs": [
    {
     "name": "stdout",
     "output_type": "stream",
     "text": [
      "Tests Passed\n"
     ]
    }
   ],
=======
   "execution_count": null,
   "metadata": {
    "collapsed": false
   },
   "outputs": [],
>>>>>>> 1baaec7cad07065df94e0cad830925d7e53c5af7
   "source": [
    "def fully_conn(x_tensor, num_outputs):\n",
    "    \"\"\"\n",
    "    Apply a fully connected layer to x_tensor using weight and bias\n",
    "    : x_tensor: A 2-D tensor where the first dimension is batch size.\n",
    "    : num_outputs: The number of output that the new tensor should be.\n",
    "    : return: A 2-D tensor where the second dimension is num_outputs.\n",
    "    \"\"\"\n",
    "    # TODO: Implement Function\n",
<<<<<<< HEAD
    "    return tf.contrib.layers.fully_connected(x_tensor, num_outputs)\n",
=======
    "    return None\n",
>>>>>>> 1baaec7cad07065df94e0cad830925d7e53c5af7
    "\n",
    "\n",
    "\"\"\"\n",
    "DON'T MODIFY ANYTHING IN THIS CELL THAT IS BELOW THIS LINE\n",
    "\"\"\"\n",
    "tests.test_fully_conn(fully_conn)"
   ]
  },
  {
   "cell_type": "markdown",
<<<<<<< HEAD
   "metadata": {
    "deletable": true,
    "editable": true
   },
=======
   "metadata": {},
>>>>>>> 1baaec7cad07065df94e0cad830925d7e53c5af7
   "source": [
    "### Output Layer\n",
    "Implement the `output` function to apply a fully connected layer to `x_tensor` with the shape (*Batch Size*, *num_outputs*). Shortcut option: you can use classes from the [TensorFlow Layers](https://www.tensorflow.org/api_docs/python/tf/layers) or [TensorFlow Layers (contrib)](https://www.tensorflow.org/api_guides/python/contrib.layers) packages for this layer. For more of a challenge, only use other TensorFlow packages.\n",
    "\n",
    "**Note:** Activation, softmax, or cross entropy should **not** be applied to this."
   ]
  },
  {
   "cell_type": "code",
<<<<<<< HEAD
   "execution_count": 11,
   "metadata": {
    "collapsed": false,
    "deletable": true,
    "editable": true
   },
   "outputs": [
    {
     "name": "stdout",
     "output_type": "stream",
     "text": [
      "Tests Passed\n"
     ]
    }
   ],
=======
   "execution_count": null,
   "metadata": {
    "collapsed": false
   },
   "outputs": [],
>>>>>>> 1baaec7cad07065df94e0cad830925d7e53c5af7
   "source": [
    "def output(x_tensor, num_outputs):\n",
    "    \"\"\"\n",
    "    Apply a output layer to x_tensor using weight and bias\n",
    "    : x_tensor: A 2-D tensor where the first dimension is batch size.\n",
    "    : num_outputs: The number of output that the new tensor should be.\n",
    "    : return: A 2-D tensor where the second dimension is num_outputs.\n",
    "    \"\"\"\n",
    "    # TODO: Implement Function\n",
<<<<<<< HEAD
    "    return tf.contrib.layers.fully_connected(x_tensor, num_outputs, activation_fn = None)\n",
=======
    "    return None\n",
>>>>>>> 1baaec7cad07065df94e0cad830925d7e53c5af7
    "\n",
    "\n",
    "\"\"\"\n",
    "DON'T MODIFY ANYTHING IN THIS CELL THAT IS BELOW THIS LINE\n",
    "\"\"\"\n",
    "tests.test_output(output)"
   ]
  },
  {
   "cell_type": "markdown",
<<<<<<< HEAD
   "metadata": {
    "deletable": true,
    "editable": true
   },
=======
   "metadata": {},
>>>>>>> 1baaec7cad07065df94e0cad830925d7e53c5af7
   "source": [
    "### Create Convolutional Model\n",
    "Implement the function `conv_net` to create a convolutional neural network model. The function takes in a batch of images, `x`, and outputs logits.  Use the layers you created above to create this model:\n",
    "\n",
    "* Apply 1, 2, or 3 Convolution and Max Pool layers\n",
    "* Apply a Flatten Layer\n",
    "* Apply 1, 2, or 3 Fully Connected Layers\n",
    "* Apply an Output Layer\n",
    "* Return the output\n",
    "* Apply [TensorFlow's Dropout](https://www.tensorflow.org/api_docs/python/tf/nn/dropout) to one or more layers in the model using `keep_prob`. "
   ]
  },
  {
   "cell_type": "code",
<<<<<<< HEAD
   "execution_count": 19,
   "metadata": {
    "collapsed": false,
    "deletable": true,
    "editable": true
   },
   "outputs": [
    {
     "name": "stdout",
     "output_type": "stream",
     "text": [
      "Neural Network Built!\n"
     ]
    }
   ],
=======
   "execution_count": null,
   "metadata": {
    "collapsed": false
   },
   "outputs": [],
>>>>>>> 1baaec7cad07065df94e0cad830925d7e53c5af7
   "source": [
    "def conv_net(x, keep_prob):\n",
    "    \"\"\"\n",
    "    Create a convolutional neural network model\n",
    "    : x: Placeholder tensor that holds image data.\n",
    "    : keep_prob: Placeholder tensor that hold dropout keep probability.\n",
    "    : return: Tensor that represents logits\n",
    "    \"\"\"\n",
    "    # TODO: Apply 1, 2, or 3 Convolution and Max Pool layers\n",
    "    #    Play around with different number of outputs, kernel size and stride\n",
    "    # Function Definition from Above:\n",
    "    #    conv2d_maxpool(x_tensor, conv_num_outputs, conv_ksize, conv_strides, pool_ksize, pool_strides)\n",
<<<<<<< HEAD
    "    out = conv2d_maxpool(x_tensor = x,\n",
    "                         conv_num_outputs = 6,\n",
    "                         conv_ksize = (5,5),\n",
    "                         conv_strides = (1,1),\n",
    "                         pool_ksize = (2,2),\n",
    "                         pool_strides = (2,2)\n",
    "                        )\n",
    "    out = conv2d_maxpool(x_tensor = x,\n",
    "                         conv_num_outputs = 16,\n",
    "                         conv_ksize = (5,5),\n",
    "                         conv_strides = (1,1),\n",
    "                         pool_ksize = (2,2),\n",
    "                         pool_strides = (2,2)\n",
    "                        )\n",
=======
    "    \n",
>>>>>>> 1baaec7cad07065df94e0cad830925d7e53c5af7
    "\n",
    "    # TODO: Apply a Flatten Layer\n",
    "    # Function Definition from Above:\n",
    "    #   flatten(x_tensor)\n",
<<<<<<< HEAD
    "    # out = tf.nn.dropout(out, keep_prob)\n",
    "    out = flatten(out)\n",
=======
    "    \n",
>>>>>>> 1baaec7cad07065df94e0cad830925d7e53c5af7
    "\n",
    "    # TODO: Apply 1, 2, or 3 Fully Connected Layers\n",
    "    #    Play around with different number of outputs\n",
    "    # Function Definition from Above:\n",
    "    #   fully_conn(x_tensor, num_outputs)\n",
<<<<<<< HEAD
    "    out = tf.nn.dropout(out, keep_prob)\n",
    "    out = fully_conn(out, 120)\n",
    "    out = fully_conn(out, 84)\n",
=======
    "    \n",
>>>>>>> 1baaec7cad07065df94e0cad830925d7e53c5af7
    "    \n",
    "    # TODO: Apply an Output Layer\n",
    "    #    Set this to the number of classes\n",
    "    # Function Definition from Above:\n",
    "    #   output(x_tensor, num_outputs)\n",
<<<<<<< HEAD
    "    out = tf.nn.dropout(out, keep_prob)\n",
    "    out = output(out, 10)\n",
    "    \n",
    "    # TODO: return output\n",
    "    return out\n",
=======
    "    \n",
    "    \n",
    "    # TODO: return output\n",
    "    return None\n",
>>>>>>> 1baaec7cad07065df94e0cad830925d7e53c5af7
    "\n",
    "\n",
    "\"\"\"\n",
    "DON'T MODIFY ANYTHING IN THIS CELL THAT IS BELOW THIS LINE\n",
    "\"\"\"\n",
    "\n",
    "##############################\n",
    "## Build the Neural Network ##\n",
    "##############################\n",
    "\n",
    "# Remove previous weights, bias, inputs, etc..\n",
    "tf.reset_default_graph()\n",
    "\n",
    "# Inputs\n",
    "x = neural_net_image_input((32, 32, 3))\n",
    "y = neural_net_label_input(10)\n",
    "keep_prob = neural_net_keep_prob_input()\n",
    "\n",
    "# Model\n",
    "logits = conv_net(x, keep_prob)\n",
    "\n",
    "# Name logits Tensor, so that is can be loaded from disk after training\n",
    "logits = tf.identity(logits, name='logits')\n",
    "\n",
    "# Loss and Optimizer\n",
    "cost = tf.reduce_mean(tf.nn.softmax_cross_entropy_with_logits(logits=logits, labels=y))\n",
    "optimizer = tf.train.AdamOptimizer().minimize(cost)\n",
    "\n",
    "# Accuracy\n",
    "correct_pred = tf.equal(tf.argmax(logits, 1), tf.argmax(y, 1))\n",
    "accuracy = tf.reduce_mean(tf.cast(correct_pred, tf.float32), name='accuracy')\n",
    "\n",
    "tests.test_conv_net(conv_net)"
   ]
  },
  {
   "cell_type": "markdown",
<<<<<<< HEAD
   "metadata": {
    "deletable": true,
    "editable": true
   },
=======
   "metadata": {},
>>>>>>> 1baaec7cad07065df94e0cad830925d7e53c5af7
   "source": [
    "## Train the Neural Network\n",
    "### Single Optimization\n",
    "Implement the function `train_neural_network` to do a single optimization.  The optimization should use `optimizer` to optimize in `session` with a `feed_dict` of the following:\n",
    "* `x` for image input\n",
    "* `y` for labels\n",
    "* `keep_prob` for keep probability for dropout\n",
    "\n",
    "This function will be called for each batch, so `tf.global_variables_initializer()` has already been called.\n",
    "\n",
    "Note: Nothing needs to be returned. This function is only optimizing the neural network."
   ]
  },
  {
   "cell_type": "code",
<<<<<<< HEAD
   "execution_count": 13,
   "metadata": {
    "collapsed": false,
    "deletable": true,
    "editable": true
   },
   "outputs": [
    {
     "name": "stdout",
     "output_type": "stream",
     "text": [
      "Tests Passed\n"
     ]
    }
   ],
=======
   "execution_count": null,
   "metadata": {
    "collapsed": false
   },
   "outputs": [],
>>>>>>> 1baaec7cad07065df94e0cad830925d7e53c5af7
   "source": [
    "def train_neural_network(session, optimizer, keep_probability, feature_batch, label_batch):\n",
    "    \"\"\"\n",
    "    Optimize the session on a batch of images and labels\n",
    "    : session: Current TensorFlow session\n",
    "    : optimizer: TensorFlow optimizer function\n",
    "    : keep_probability: keep probability\n",
    "    : feature_batch: Batch of Numpy image data\n",
    "    : label_batch: Batch of Numpy label data\n",
    "    \"\"\"\n",
    "    # TODO: Implement Function\n",
<<<<<<< HEAD
    "    session.run(optimizer, feed_dict={\n",
    "                x: feature_batch,\n",
    "                y: label_batch,\n",
    "                keep_prob: keep_probability})\n",
=======
    "    pass\n",
>>>>>>> 1baaec7cad07065df94e0cad830925d7e53c5af7
    "\n",
    "\n",
    "\"\"\"\n",
    "DON'T MODIFY ANYTHING IN THIS CELL THAT IS BELOW THIS LINE\n",
    "\"\"\"\n",
    "tests.test_train_nn(train_neural_network)"
   ]
  },
  {
   "cell_type": "markdown",
<<<<<<< HEAD
   "metadata": {
    "deletable": true,
    "editable": true
   },
=======
   "metadata": {},
>>>>>>> 1baaec7cad07065df94e0cad830925d7e53c5af7
   "source": [
    "### Show Stats\n",
    "Implement the function `print_stats` to print loss and validation accuracy.  Use the global variables `valid_features` and `valid_labels` to calculate validation accuracy.  Use a keep probability of `1.0` to calculate the loss and validation accuracy."
   ]
  },
  {
   "cell_type": "code",
<<<<<<< HEAD
   "execution_count": 14,
   "metadata": {
    "collapsed": false,
    "deletable": true,
    "editable": true
=======
   "execution_count": null,
   "metadata": {
    "collapsed": false
>>>>>>> 1baaec7cad07065df94e0cad830925d7e53c5af7
   },
   "outputs": [],
   "source": [
    "def print_stats(session, feature_batch, label_batch, cost, accuracy):\n",
    "    \"\"\"\n",
    "    Print information about loss and validation accuracy\n",
    "    : session: Current TensorFlow session\n",
    "    : feature_batch: Batch of Numpy image data\n",
    "    : label_batch: Batch of Numpy label data\n",
    "    : cost: TensorFlow cost function\n",
    "    : accuracy: TensorFlow accuracy function\n",
    "    \"\"\"\n",
    "    # TODO: Implement Function\n",
<<<<<<< HEAD
    "    loss = session.run(cost, feed_dict = {\n",
    "        x: feature_batch,\n",
    "        y: label_batch,\n",
    "        keep_prob: 1.0\n",
    "    })\n",
    "    valid_acc = session.run(accuracy, feed_dict = {\n",
    "        x: valid_features,\n",
    "        y: valid_labels,\n",
    "        keep_prob: 1.0\n",
    "    })\n",
    "    \n",
    "    print('Loss: {:>10.4f} Validation Accuracy: {:.6f}'.format(loss, valid_acc))"
=======
    "    pass"
>>>>>>> 1baaec7cad07065df94e0cad830925d7e53c5af7
   ]
  },
  {
   "cell_type": "markdown",
<<<<<<< HEAD
   "metadata": {
    "deletable": true,
    "editable": true
   },
=======
   "metadata": {},
>>>>>>> 1baaec7cad07065df94e0cad830925d7e53c5af7
   "source": [
    "### Hyperparameters\n",
    "Tune the following parameters:\n",
    "* Set `epochs` to the number of iterations until the network stops learning or start overfitting\n",
    "* Set `batch_size` to the highest number that your machine has memory for.  Most people set them to common sizes of memory:\n",
    " * 64\n",
    " * 128\n",
    " * 256\n",
    " * ...\n",
    "* Set `keep_probability` to the probability of keeping a node using dropout"
   ]
  },
  {
   "cell_type": "code",
<<<<<<< HEAD
   "execution_count": 20,
   "metadata": {
    "collapsed": true,
    "deletable": true,
    "editable": true
=======
   "execution_count": null,
   "metadata": {
    "collapsed": true
>>>>>>> 1baaec7cad07065df94e0cad830925d7e53c5af7
   },
   "outputs": [],
   "source": [
    "# TODO: Tune Parameters\n",
<<<<<<< HEAD
    "epochs = 20\n",
    "batch_size = 128\n",
    "keep_probability = 0.5"
=======
    "epochs = None\n",
    "batch_size = None\n",
    "keep_probability = None"
>>>>>>> 1baaec7cad07065df94e0cad830925d7e53c5af7
   ]
  },
  {
   "cell_type": "markdown",
<<<<<<< HEAD
   "metadata": {
    "deletable": true,
    "editable": true
   },
=======
   "metadata": {},
>>>>>>> 1baaec7cad07065df94e0cad830925d7e53c5af7
   "source": [
    "### Train on a Single CIFAR-10 Batch\n",
    "Instead of training the neural network on all the CIFAR-10 batches of data, let's use a single batch. This should save time while you iterate on the model to get a better accuracy.  Once the final validation accuracy is 50% or greater, run the model on all the data in the next section."
   ]
  },
  {
   "cell_type": "code",
<<<<<<< HEAD
   "execution_count": 21,
   "metadata": {
    "collapsed": false,
    "deletable": true,
    "editable": true
   },
   "outputs": [
    {
     "name": "stdout",
     "output_type": "stream",
     "text": [
      "Checking the Training on a Single Batch...\n",
      "Epoch  1, CIFAR-10 Batch 1:  Loss:     2.0504 Validation Accuracy: 0.366200\n",
      "Epoch  2, CIFAR-10 Batch 1:  Loss:     1.8789 Validation Accuracy: 0.420800\n",
      "Epoch  3, CIFAR-10 Batch 1:  Loss:     1.6698 Validation Accuracy: 0.450000\n",
      "Epoch  4, CIFAR-10 Batch 1:  Loss:     1.5368 Validation Accuracy: 0.471000\n",
      "Epoch  5, CIFAR-10 Batch 1:  Loss:     1.4423 Validation Accuracy: 0.484800\n",
      "Epoch  6, CIFAR-10 Batch 1:  Loss:     1.2767 Validation Accuracy: 0.485400\n",
      "Epoch  7, CIFAR-10 Batch 1:  Loss:     1.1660 Validation Accuracy: 0.497400\n",
      "Epoch  8, CIFAR-10 Batch 1:  Loss:     1.1123 Validation Accuracy: 0.501800\n",
      "Epoch  9, CIFAR-10 Batch 1:  Loss:     1.0738 Validation Accuracy: 0.508600\n",
      "Epoch 10, CIFAR-10 Batch 1:  Loss:     1.0172 Validation Accuracy: 0.518000\n",
      "Epoch 11, CIFAR-10 Batch 1:  Loss:     0.9247 Validation Accuracy: 0.514400\n",
      "Epoch 12, CIFAR-10 Batch 1:  Loss:     0.7977 Validation Accuracy: 0.524000\n",
      "Epoch 13, CIFAR-10 Batch 1:  Loss:     0.7862 Validation Accuracy: 0.534600\n",
      "Epoch 14, CIFAR-10 Batch 1:  Loss:     0.7365 Validation Accuracy: 0.527800\n",
      "Epoch 15, CIFAR-10 Batch 1:  Loss:     0.6873 Validation Accuracy: 0.533000\n",
      "Epoch 16, CIFAR-10 Batch 1:  Loss:     0.6495 Validation Accuracy: 0.532400\n",
      "Epoch 17, CIFAR-10 Batch 1:  Loss:     0.5859 Validation Accuracy: 0.534400\n",
      "Epoch 18, CIFAR-10 Batch 1:  Loss:     0.5988 Validation Accuracy: 0.540800\n",
      "Epoch 19, CIFAR-10 Batch 1:  Loss:     0.5625 Validation Accuracy: 0.537200\n",
      "Epoch 20, CIFAR-10 Batch 1:  Loss:     0.4640 Validation Accuracy: 0.551000\n"
     ]
    }
   ],
=======
   "execution_count": null,
   "metadata": {
    "collapsed": false
   },
   "outputs": [],
>>>>>>> 1baaec7cad07065df94e0cad830925d7e53c5af7
   "source": [
    "\"\"\"\n",
    "DON'T MODIFY ANYTHING IN THIS CELL\n",
    "\"\"\"\n",
    "print('Checking the Training on a Single Batch...')\n",
    "with tf.Session() as sess:\n",
    "    # Initializing the variables\n",
    "    sess.run(tf.global_variables_initializer())\n",
    "    \n",
    "    # Training cycle\n",
    "    for epoch in range(epochs):\n",
    "        batch_i = 1\n",
    "        for batch_features, batch_labels in helper.load_preprocess_training_batch(batch_i, batch_size):\n",
    "            train_neural_network(sess, optimizer, keep_probability, batch_features, batch_labels)\n",
    "        print('Epoch {:>2}, CIFAR-10 Batch {}:  '.format(epoch + 1, batch_i), end='')\n",
    "        print_stats(sess, batch_features, batch_labels, cost, accuracy)"
   ]
  },
  {
   "cell_type": "markdown",
<<<<<<< HEAD
   "metadata": {
    "deletable": true,
    "editable": true
   },
=======
   "metadata": {},
>>>>>>> 1baaec7cad07065df94e0cad830925d7e53c5af7
   "source": [
    "### Fully Train the Model\n",
    "Now that you got a good accuracy with a single CIFAR-10 batch, try it with all five batches."
   ]
  },
  {
   "cell_type": "code",
<<<<<<< HEAD
   "execution_count": 22,
   "metadata": {
    "collapsed": false,
    "deletable": true,
    "editable": true
   },
   "outputs": [
    {
     "name": "stdout",
     "output_type": "stream",
     "text": [
      "Training...\n",
      "Epoch  1, CIFAR-10 Batch 1:  Loss:     2.0325 Validation Accuracy: 0.384400\n",
      "Epoch  1, CIFAR-10 Batch 2:  Loss:     1.5599 Validation Accuracy: 0.407600\n",
      "Epoch  1, CIFAR-10 Batch 3:  Loss:     1.3525 Validation Accuracy: 0.454200\n",
      "Epoch  1, CIFAR-10 Batch 4:  Loss:     1.4658 Validation Accuracy: 0.481000\n",
      "Epoch  1, CIFAR-10 Batch 5:  Loss:     1.4825 Validation Accuracy: 0.489600\n",
      "Epoch  2, CIFAR-10 Batch 1:  Loss:     1.5169 Validation Accuracy: 0.506600\n",
      "Epoch  2, CIFAR-10 Batch 2:  Loss:     1.1821 Validation Accuracy: 0.522400\n",
      "Epoch  2, CIFAR-10 Batch 3:  Loss:     1.0940 Validation Accuracy: 0.518400\n",
      "Epoch  2, CIFAR-10 Batch 4:  Loss:     1.2571 Validation Accuracy: 0.523600\n",
      "Epoch  2, CIFAR-10 Batch 5:  Loss:     1.2788 Validation Accuracy: 0.541000\n",
      "Epoch  3, CIFAR-10 Batch 1:  Loss:     1.3805 Validation Accuracy: 0.544000\n",
      "Epoch  3, CIFAR-10 Batch 2:  Loss:     1.0466 Validation Accuracy: 0.548200\n",
      "Epoch  3, CIFAR-10 Batch 3:  Loss:     0.9512 Validation Accuracy: 0.554000\n",
      "Epoch  3, CIFAR-10 Batch 4:  Loss:     1.0593 Validation Accuracy: 0.564800\n",
      "Epoch  3, CIFAR-10 Batch 5:  Loss:     1.1576 Validation Accuracy: 0.567200\n",
      "Epoch  4, CIFAR-10 Batch 1:  Loss:     1.2141 Validation Accuracy: 0.575000\n",
      "Epoch  4, CIFAR-10 Batch 2:  Loss:     0.9288 Validation Accuracy: 0.579200\n",
      "Epoch  4, CIFAR-10 Batch 3:  Loss:     0.8547 Validation Accuracy: 0.573200\n",
      "Epoch  4, CIFAR-10 Batch 4:  Loss:     0.9856 Validation Accuracy: 0.580600\n",
      "Epoch  4, CIFAR-10 Batch 5:  Loss:     0.9665 Validation Accuracy: 0.587000\n",
      "Epoch  5, CIFAR-10 Batch 1:  Loss:     1.1024 Validation Accuracy: 0.589200\n",
      "Epoch  5, CIFAR-10 Batch 2:  Loss:     0.9208 Validation Accuracy: 0.590600\n",
      "Epoch  5, CIFAR-10 Batch 3:  Loss:     0.7409 Validation Accuracy: 0.585800\n",
      "Epoch  5, CIFAR-10 Batch 4:  Loss:     0.8955 Validation Accuracy: 0.601800\n",
      "Epoch  5, CIFAR-10 Batch 5:  Loss:     0.8247 Validation Accuracy: 0.602600\n",
      "Epoch  6, CIFAR-10 Batch 1:  Loss:     1.0105 Validation Accuracy: 0.612000\n",
      "Epoch  6, CIFAR-10 Batch 2:  Loss:     0.8169 Validation Accuracy: 0.607200\n",
      "Epoch  6, CIFAR-10 Batch 3:  Loss:     0.6553 Validation Accuracy: 0.602800\n",
      "Epoch  6, CIFAR-10 Batch 4:  Loss:     0.8152 Validation Accuracy: 0.615000\n",
      "Epoch  6, CIFAR-10 Batch 5:  Loss:     0.7012 Validation Accuracy: 0.615800\n",
      "Epoch  7, CIFAR-10 Batch 1:  Loss:     0.9138 Validation Accuracy: 0.613600\n",
      "Epoch  7, CIFAR-10 Batch 2:  Loss:     0.7060 Validation Accuracy: 0.624400\n",
      "Epoch  7, CIFAR-10 Batch 3:  Loss:     0.6153 Validation Accuracy: 0.600200\n",
      "Epoch  7, CIFAR-10 Batch 4:  Loss:     0.7003 Validation Accuracy: 0.622600\n",
      "Epoch  7, CIFAR-10 Batch 5:  Loss:     0.6823 Validation Accuracy: 0.623000\n",
      "Epoch  8, CIFAR-10 Batch 1:  Loss:     0.8795 Validation Accuracy: 0.620200\n",
      "Epoch  8, CIFAR-10 Batch 2:  Loss:     0.6713 Validation Accuracy: 0.637400\n",
      "Epoch  8, CIFAR-10 Batch 3:  Loss:     0.5225 Validation Accuracy: 0.632000\n",
      "Epoch  8, CIFAR-10 Batch 4:  Loss:     0.6379 Validation Accuracy: 0.631800\n",
      "Epoch  8, CIFAR-10 Batch 5:  Loss:     0.5644 Validation Accuracy: 0.634200\n",
      "Epoch  9, CIFAR-10 Batch 1:  Loss:     0.8496 Validation Accuracy: 0.625400\n",
      "Epoch  9, CIFAR-10 Batch 2:  Loss:     0.6217 Validation Accuracy: 0.632800\n",
      "Epoch  9, CIFAR-10 Batch 3:  Loss:     0.5448 Validation Accuracy: 0.620200\n",
      "Epoch  9, CIFAR-10 Batch 4:  Loss:     0.5976 Validation Accuracy: 0.638800\n",
      "Epoch  9, CIFAR-10 Batch 5:  Loss:     0.5305 Validation Accuracy: 0.634200\n",
      "Epoch 10, CIFAR-10 Batch 1:  Loss:     0.8024 Validation Accuracy: 0.629800\n",
      "Epoch 10, CIFAR-10 Batch 2:  Loss:     0.5532 Validation Accuracy: 0.631600\n",
      "Epoch 10, CIFAR-10 Batch 3:  Loss:     0.5136 Validation Accuracy: 0.632600\n",
      "Epoch 10, CIFAR-10 Batch 4:  Loss:     0.5567 Validation Accuracy: 0.637600\n",
      "Epoch 10, CIFAR-10 Batch 5:  Loss:     0.4769 Validation Accuracy: 0.641800\n",
      "Epoch 11, CIFAR-10 Batch 1:  Loss:     0.7109 Validation Accuracy: 0.640400\n",
      "Epoch 11, CIFAR-10 Batch 2:  Loss:     0.5310 Validation Accuracy: 0.644200\n",
      "Epoch 11, CIFAR-10 Batch 3:  Loss:     0.4232 Validation Accuracy: 0.648400\n",
      "Epoch 11, CIFAR-10 Batch 4:  Loss:     0.5251 Validation Accuracy: 0.640000\n",
      "Epoch 11, CIFAR-10 Batch 5:  Loss:     0.4771 Validation Accuracy: 0.645000\n",
      "Epoch 12, CIFAR-10 Batch 1:  Loss:     0.6765 Validation Accuracy: 0.626800\n",
      "Epoch 12, CIFAR-10 Batch 2:  Loss:     0.4659 Validation Accuracy: 0.649800\n",
      "Epoch 12, CIFAR-10 Batch 3:  Loss:     0.4129 Validation Accuracy: 0.646000\n",
      "Epoch 12, CIFAR-10 Batch 4:  Loss:     0.4700 Validation Accuracy: 0.644600\n",
      "Epoch 12, CIFAR-10 Batch 5:  Loss:     0.4074 Validation Accuracy: 0.659400\n",
      "Epoch 13, CIFAR-10 Batch 1:  Loss:     0.6011 Validation Accuracy: 0.637800\n",
      "Epoch 13, CIFAR-10 Batch 2:  Loss:     0.4386 Validation Accuracy: 0.649400\n",
      "Epoch 13, CIFAR-10 Batch 3:  Loss:     0.4061 Validation Accuracy: 0.655200\n",
      "Epoch 13, CIFAR-10 Batch 4:  Loss:     0.4214 Validation Accuracy: 0.652000\n",
      "Epoch 13, CIFAR-10 Batch 5:  Loss:     0.4170 Validation Accuracy: 0.660600\n",
      "Epoch 14, CIFAR-10 Batch 1:  Loss:     0.5553 Validation Accuracy: 0.648600\n",
      "Epoch 14, CIFAR-10 Batch 2:  Loss:     0.4097 Validation Accuracy: 0.647800\n",
      "Epoch 14, CIFAR-10 Batch 3:  Loss:     0.3895 Validation Accuracy: 0.653000\n",
      "Epoch 14, CIFAR-10 Batch 4:  Loss:     0.3621 Validation Accuracy: 0.663400\n",
      "Epoch 14, CIFAR-10 Batch 5:  Loss:     0.3691 Validation Accuracy: 0.654400\n",
      "Epoch 15, CIFAR-10 Batch 1:  Loss:     0.4947 Validation Accuracy: 0.647000\n",
      "Epoch 15, CIFAR-10 Batch 2:  Loss:     0.3966 Validation Accuracy: 0.659400\n",
      "Epoch 15, CIFAR-10 Batch 3:  Loss:     0.3775 Validation Accuracy: 0.649800\n",
      "Epoch 15, CIFAR-10 Batch 4:  Loss:     0.3791 Validation Accuracy: 0.649200\n",
      "Epoch 15, CIFAR-10 Batch 5:  Loss:     0.3239 Validation Accuracy: 0.664800\n",
      "Epoch 16, CIFAR-10 Batch 1:  Loss:     0.5055 Validation Accuracy: 0.654200\n",
      "Epoch 16, CIFAR-10 Batch 2:  Loss:     0.3633 Validation Accuracy: 0.656000\n",
      "Epoch 16, CIFAR-10 Batch 3:  Loss:     0.3103 Validation Accuracy: 0.662000\n",
      "Epoch 16, CIFAR-10 Batch 4:  Loss:     0.3226 Validation Accuracy: 0.652600\n",
      "Epoch 16, CIFAR-10 Batch 5:  Loss:     0.3348 Validation Accuracy: 0.657400\n",
      "Epoch 17, CIFAR-10 Batch 1:  Loss:     0.4847 Validation Accuracy: 0.642200\n",
      "Epoch 17, CIFAR-10 Batch 2:  Loss:     0.3687 Validation Accuracy: 0.643600\n",
      "Epoch 17, CIFAR-10 Batch 3:  Loss:     0.3341 Validation Accuracy: 0.655000\n",
      "Epoch 17, CIFAR-10 Batch 4:  Loss:     0.3155 Validation Accuracy: 0.669800\n",
      "Epoch 17, CIFAR-10 Batch 5:  Loss:     0.2533 Validation Accuracy: 0.670800\n",
      "Epoch 18, CIFAR-10 Batch 1:  Loss:     0.4767 Validation Accuracy: 0.651400\n",
      "Epoch 18, CIFAR-10 Batch 2:  Loss:     0.3535 Validation Accuracy: 0.656600\n",
      "Epoch 18, CIFAR-10 Batch 3:  Loss:     0.2934 Validation Accuracy: 0.662400\n",
      "Epoch 18, CIFAR-10 Batch 4:  Loss:     0.2622 Validation Accuracy: 0.666000\n",
      "Epoch 18, CIFAR-10 Batch 5:  Loss:     0.2449 Validation Accuracy: 0.668400\n",
      "Epoch 19, CIFAR-10 Batch 1:  Loss:     0.4257 Validation Accuracy: 0.645600\n",
      "Epoch 19, CIFAR-10 Batch 2:  Loss:     0.3349 Validation Accuracy: 0.652000\n",
      "Epoch 19, CIFAR-10 Batch 3:  Loss:     0.2860 Validation Accuracy: 0.650600\n",
      "Epoch 19, CIFAR-10 Batch 4:  Loss:     0.2708 Validation Accuracy: 0.666600\n",
      "Epoch 19, CIFAR-10 Batch 5:  Loss:     0.2565 Validation Accuracy: 0.661800\n",
      "Epoch 20, CIFAR-10 Batch 1:  Loss:     0.3739 Validation Accuracy: 0.658600\n",
      "Epoch 20, CIFAR-10 Batch 2:  Loss:     0.3333 Validation Accuracy: 0.649800\n",
      "Epoch 20, CIFAR-10 Batch 3:  Loss:     0.2349 Validation Accuracy: 0.667800\n",
      "Epoch 20, CIFAR-10 Batch 4:  Loss:     0.2304 Validation Accuracy: 0.659200\n",
      "Epoch 20, CIFAR-10 Batch 5:  Loss:     0.2300 Validation Accuracy: 0.666800\n"
     ]
    }
   ],
=======
   "execution_count": null,
   "metadata": {
    "collapsed": false
   },
   "outputs": [],
>>>>>>> 1baaec7cad07065df94e0cad830925d7e53c5af7
   "source": [
    "\"\"\"\n",
    "DON'T MODIFY ANYTHING IN THIS CELL\n",
    "\"\"\"\n",
    "save_model_path = './image_classification'\n",
    "\n",
    "print('Training...')\n",
    "with tf.Session() as sess:\n",
    "    # Initializing the variables\n",
    "    sess.run(tf.global_variables_initializer())\n",
    "    \n",
    "    # Training cycle\n",
    "    for epoch in range(epochs):\n",
    "        # Loop over all batches\n",
    "        n_batches = 5\n",
    "        for batch_i in range(1, n_batches + 1):\n",
    "            for batch_features, batch_labels in helper.load_preprocess_training_batch(batch_i, batch_size):\n",
    "                train_neural_network(sess, optimizer, keep_probability, batch_features, batch_labels)\n",
    "            print('Epoch {:>2}, CIFAR-10 Batch {}:  '.format(epoch + 1, batch_i), end='')\n",
    "            print_stats(sess, batch_features, batch_labels, cost, accuracy)\n",
    "            \n",
    "    # Save Model\n",
    "    saver = tf.train.Saver()\n",
    "    save_path = saver.save(sess, save_model_path)"
   ]
  },
  {
   "cell_type": "markdown",
<<<<<<< HEAD
   "metadata": {
    "deletable": true,
    "editable": true
   },
=======
   "metadata": {},
>>>>>>> 1baaec7cad07065df94e0cad830925d7e53c5af7
   "source": [
    "# Checkpoint\n",
    "The model has been saved to disk.\n",
    "## Test Model\n",
    "Test your model against the test dataset.  This will be your final accuracy. You should have an accuracy greater than 50%. If you don't, keep tweaking the model architecture and parameters."
   ]
  },
  {
   "cell_type": "code",
<<<<<<< HEAD
   "execution_count": 23,
   "metadata": {
    "collapsed": false,
    "deletable": true,
    "editable": true
   },
   "outputs": [
    {
     "name": "stdout",
     "output_type": "stream",
     "text": [
      "INFO:tensorflow:Restoring parameters from ./image_classification\n",
      "Testing Accuracy: 0.6648536392405063\n",
      "\n"
     ]
    },
    {
     "data": {
      "image/png": "iVBORw0KGgoAAAANSUhEUgAAAscAAAJ/CAYAAACUb342AAAABHNCSVQICAgIfAhkiAAAAAlwSFlz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\nFhERERGJNDkWEREREYn+P1CkcCbNSpw9AAAAAElFTkSuQmCC\n",
      "text/plain": [
       "<matplotlib.figure.Figure at 0x11faa81d0>"
      ]
     },
     "metadata": {
      "image/png": {
       "height": 319,
       "width": 355
      }
     },
     "output_type": "display_data"
    }
   ],
=======
   "execution_count": null,
   "metadata": {
    "collapsed": false
   },
   "outputs": [],
>>>>>>> 1baaec7cad07065df94e0cad830925d7e53c5af7
   "source": [
    "\"\"\"\n",
    "DON'T MODIFY ANYTHING IN THIS CELL\n",
    "\"\"\"\n",
    "%matplotlib inline\n",
    "%config InlineBackend.figure_format = 'retina'\n",
    "\n",
    "import tensorflow as tf\n",
    "import pickle\n",
    "import helper\n",
    "import random\n",
    "\n",
    "# Set batch size if not already set\n",
    "try:\n",
    "    if batch_size:\n",
    "        pass\n",
    "except NameError:\n",
    "    batch_size = 64\n",
    "\n",
    "save_model_path = './image_classification'\n",
    "n_samples = 4\n",
    "top_n_predictions = 3\n",
    "\n",
    "def test_model():\n",
    "    \"\"\"\n",
    "    Test the saved model against the test dataset\n",
    "    \"\"\"\n",
    "\n",
    "    test_features, test_labels = pickle.load(open('preprocess_training.p', mode='rb'))\n",
    "    loaded_graph = tf.Graph()\n",
    "\n",
    "    with tf.Session(graph=loaded_graph) as sess:\n",
    "        # Load model\n",
    "        loader = tf.train.import_meta_graph(save_model_path + '.meta')\n",
    "        loader.restore(sess, save_model_path)\n",
    "\n",
    "        # Get Tensors from loaded model\n",
    "        loaded_x = loaded_graph.get_tensor_by_name('x:0')\n",
    "        loaded_y = loaded_graph.get_tensor_by_name('y:0')\n",
    "        loaded_keep_prob = loaded_graph.get_tensor_by_name('keep_prob:0')\n",
    "        loaded_logits = loaded_graph.get_tensor_by_name('logits:0')\n",
    "        loaded_acc = loaded_graph.get_tensor_by_name('accuracy:0')\n",
    "        \n",
    "        # Get accuracy in batches for memory limitations\n",
    "        test_batch_acc_total = 0\n",
    "        test_batch_count = 0\n",
    "        \n",
    "        for train_feature_batch, train_label_batch in helper.batch_features_labels(test_features, test_labels, batch_size):\n",
    "            test_batch_acc_total += sess.run(\n",
    "                loaded_acc,\n",
    "                feed_dict={loaded_x: train_feature_batch, loaded_y: train_label_batch, loaded_keep_prob: 1.0})\n",
    "            test_batch_count += 1\n",
    "\n",
    "        print('Testing Accuracy: {}\\n'.format(test_batch_acc_total/test_batch_count))\n",
    "\n",
    "        # Print Random Samples\n",
    "        random_test_features, random_test_labels = tuple(zip(*random.sample(list(zip(test_features, test_labels)), n_samples)))\n",
    "        random_test_predictions = sess.run(\n",
    "            tf.nn.top_k(tf.nn.softmax(loaded_logits), top_n_predictions),\n",
    "            feed_dict={loaded_x: random_test_features, loaded_y: random_test_labels, loaded_keep_prob: 1.0})\n",
    "        helper.display_image_predictions(random_test_features, random_test_labels, random_test_predictions)\n",
    "\n",
    "\n",
    "test_model()"
   ]
  },
  {
   "cell_type": "markdown",
<<<<<<< HEAD
   "metadata": {
    "deletable": true,
    "editable": true
   },
=======
   "metadata": {},
>>>>>>> 1baaec7cad07065df94e0cad830925d7e53c5af7
   "source": [
    "## Why 50-80% Accuracy?\n",
    "You might be wondering why you can't get an accuracy any higher. First things first, 50% isn't bad for a simple CNN.  Pure guessing would get you 10% accuracy. That's because there are many more techniques that can be applied to your model and we recemmond that once you are done with this project, you explore!\n",
    "\n",
    "## Submitting This Project\n",
    "When submitting this project, make sure to run all the cells before saving the notebook.  Save the notebook file as \"image_classification.ipynb\" and save it as a HTML file under \"File\" -> \"Download as\".  Include the \"helper.py\" and \"problem_unittests.py\" files in your submission."
   ]
  }
 ],
 "metadata": {
  "kernelspec": {
   "display_name": "Python 3",
   "language": "python",
   "name": "python3"
  },
  "language_info": {
   "codemirror_mode": {
    "name": "ipython",
    "version": 3
   },
   "file_extension": ".py",
   "mimetype": "text/x-python",
   "name": "python",
   "nbconvert_exporter": "python",
   "pygments_lexer": "ipython3",
   "version": "3.6.0"
  }
 },
 "nbformat": 4,
 "nbformat_minor": 0
}
